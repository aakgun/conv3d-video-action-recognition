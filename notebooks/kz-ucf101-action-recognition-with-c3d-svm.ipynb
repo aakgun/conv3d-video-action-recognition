{
 "cells": [
  {
   "cell_type": "markdown",
   "metadata": {},
   "source": [
    "### UCF101 action recognition with C3D and Linear SVM\n",
    "Experiment based on paper: https://arxiv.org/abs/1412.0767\n",
    "\n",
    "Model implementation and pretrained weights is coming from this repo: https://github.com/SilvioGiancola/SoccerNet-code\n",
    "\n",
    "Sports-1M dataset is described here: https://cs.stanford.edu/people/karpathy/deepvideo/deepvideo_cvpr2014.pdf\n",
    "\n",
    "UCF101 dataset that was used as a benchmark for this experiment can be found here: https://arxiv.org/abs/1212.0402"
   ]
  },
  {
   "cell_type": "code",
   "execution_count": 41,
   "metadata": {},
   "outputs": [],
   "source": [
    "%run ../python/data_prep.py\n",
    "%run ../python/mpypl_pipe_func.py\n",
    "%run ../python/mpypl_pipes.py"
   ]
  },
  {
   "cell_type": "code",
   "execution_count": 42,
   "metadata": {},
   "outputs": [],
   "source": [
    "import pickle\n",
    "\n",
    "TEST_SPLIT = get_test_split('../data/ucf101/testlist03.txt')\n",
    "CLASSES = get_classes('../data/ucf101/classInd.txt')\n",
    "MEAN_STD = pickle.load(open('../data/ucf101/mean_std.pkl', 'rb'))\n",
    "DATA_DIR = '../data/ucf101/videos'"
   ]
  },
  {
   "cell_type": "markdown",
   "metadata": {},
   "source": [
    "### STEP 1: Load all frames and save to file\n",
    "Run only if you have full UCF101 under DATA_DIR and you wish to run it through the pipeline to extract frames from videos"
   ]
  },
  {
   "cell_type": "code",
   "execution_count": null,
   "metadata": {
    "scrolled": true
   },
   "outputs": [],
   "source": [
    "videos_to_frames_pipe(\n",
    "    DATA_DIR, \n",
    "    ext='.avi',\n",
    "    target_ext='.allframes.npy', \n",
    "    classes=CLASSES, \n",
    "    min_size=128, \n",
    "    max_elements=13320)"
   ]
  },
  {
   "cell_type": "markdown",
   "metadata": {},
   "source": [
    "### STEP 2: Generate features for all frames from each video and average the resulting vectors\n",
    "Run only if you have all video frames for UCF101 saved into separate .npy files and you want to run cropping, preprocessing and inferencing steps to generate and save feature vectors for each video "
   ]
  },
  {
   "cell_type": "code",
   "execution_count": 54,
   "metadata": {},
   "outputs": [
    {
     "name": "stdout",
     "output_type": "stream",
     "text": [
      "Loading Model Weights from ../models/weights_C3D_sports1M_tf.h5\n",
      "Popping last 3 layers\n"
     ]
    }
   ],
   "source": [
    "# C3D_model function\n",
    "%run ../python/c3dmodel.py\n",
    "\n",
    "MODEL = get_video_descriptor(weights_path='../models/weights_C3D_sports1M_tf.h5')"
   ]
  },
  {
   "cell_type": "code",
   "execution_count": null,
   "metadata": {},
   "outputs": [],
   "source": [
    "frames_to_features_pipe(\n",
    "    DATA_DIR,\n",
    "    MEAN_STD,\n",
    "    ext='.allframes.npy', \n",
    "    target_ext='.proc.c3d-avg.npy',\n",
    "    model=MODEL,\n",
    "    classes=CLASSES, \n",
    "    frames_per_clip=16, \n",
    "    frames_step=8, \n",
    "    batch_size=32, \n",
    "    max_elements=13320)"
   ]
  },
  {
   "cell_type": "markdown",
   "metadata": {},
   "source": [
    "### STEP 3: Get features from saved files"
   ]
  },
  {
   "cell_type": "code",
   "execution_count": 45,
   "metadata": {},
   "outputs": [
    {
     "name": "stdout",
     "output_type": "stream",
     "text": [
      "........................................\n"
     ]
    }
   ],
   "source": [
    "data = get_features_from_files(\n",
    "    data_dir=DATA_DIR, \n",
    "    features_ext='.proc.c3d-avg.npy', \n",
    "    test_split=[test_file.replace('.avi', '.proc.c3d-avg.npy') for test_file in TEST_SPLIT], \n",
    "    classes=CLASSES, \n",
    "    max_elements=13320)"
   ]
  },
  {
   "cell_type": "code",
   "execution_count": 48,
   "metadata": {},
   "outputs": [
    {
     "name": "stdout",
     "output_type": "stream",
     "text": [
      "(9624, 4096) (9624,)\n",
      "(3696, 4096) (3696,)\n"
     ]
    }
   ],
   "source": [
    "X_train = np.asarray([x['c3d_avg'] for x in data if x['split']==mp.SplitType.Train])\n",
    "Y_train = np.asarray([y['class_id'] for y in data if y['split']==mp.SplitType.Train], dtype=np.uint8)\n",
    "X_test = np.asarray([x['c3d_avg'] for x in data if x['split']==mp.SplitType.Test])\n",
    "Y_test = np.asarray([y['class_id'] for y in data if y['split']==mp.SplitType.Test], dtype=np.uint8)\n",
    "print(X_train.shape, Y_train.shape)\n",
    "print(X_test.shape, Y_test.shape)"
   ]
  },
  {
   "cell_type": "code",
   "execution_count": 49,
   "metadata": {},
   "outputs": [],
   "source": [
    "%run ../python/pca_svm.py"
   ]
  },
  {
   "cell_type": "markdown",
   "metadata": {},
   "source": [
    "### SVM+PCA10"
   ]
  },
  {
   "cell_type": "code",
   "execution_count": 50,
   "metadata": {},
   "outputs": [
    {
     "name": "stdout",
     "output_type": "stream",
     "text": [
      "Train/test shapes after PCA: (9624, 10) / (3696, 10)\n",
      "                    precision    recall  f1-score   support\n",
      "\n",
      "    ApplyEyeMakeup       0.34      0.68      0.45        37\n",
      "     ApplyLipstick       0.55      0.82      0.66        33\n",
      "           Archery       0.26      0.18      0.22        38\n",
      "      BabyCrawling       0.48      0.72      0.58        39\n",
      "       BalanceBeam       0.79      0.48      0.60        31\n",
      "      BandMarching       0.67      0.86      0.76        43\n",
      "     BaseballPitch       0.51      0.70      0.59        40\n",
      "        Basketball       0.53      0.45      0.49        42\n",
      "    BasketballDunk       0.80      0.97      0.88        40\n",
      "        BenchPress       0.44      0.90      0.59        42\n",
      "            Biking       0.73      0.75      0.74        40\n",
      "         Billiards       0.95      1.00      0.98        42\n",
      "       BlowDryHair       0.21      0.18      0.19        34\n",
      "    BlowingCandles       0.35      0.39      0.37        28\n",
      "  BodyWeightSquats       0.26      0.30      0.28        30\n",
      "           Bowling       0.81      1.00      0.90        43\n",
      " BoxingPunchingBag       0.30      0.29      0.29        45\n",
      "    BoxingSpeedBag       0.28      0.30      0.29        37\n",
      "      BreastStroke       0.72      0.45      0.55        29\n",
      "     BrushingTeeth       0.27      0.09      0.13        34\n",
      "      CleanAndJerk       0.61      0.63      0.62        30\n",
      "       CliffDiving       0.62      0.34      0.44        38\n",
      "    CricketBowling       0.09      0.07      0.08        42\n",
      "       CricketShot       0.00      0.00      0.00        43\n",
      "  CuttingInKitchen       0.33      0.07      0.12        28\n",
      "            Diving       0.37      0.79      0.50        38\n",
      "          Drumming       0.20      0.25      0.22        48\n",
      "           Fencing       0.57      0.61      0.59        28\n",
      "FieldHockeyPenalty       0.61      0.47      0.53        30\n",
      "   FloorGymnastics       0.71      0.86      0.78        37\n",
      "      FrisbeeCatch       0.80      0.76      0.78        37\n",
      "        FrontCrawl       0.52      0.69      0.59        39\n",
      "         GolfSwing       0.45      0.65      0.53        40\n",
      "           Haircut       0.29      0.14      0.19        35\n",
      "         Hammering       0.58      0.36      0.44        42\n",
      "       HammerThrow       0.62      0.14      0.23        36\n",
      "  HandstandPushups       0.21      0.12      0.15        42\n",
      "  HandstandWalking       0.00      0.00      0.00        31\n",
      "       HeadMassage       0.21      0.15      0.17        41\n",
      "          HighJump       0.43      0.10      0.16        31\n",
      "         HorseRace       0.80      1.00      0.89        36\n",
      "       HorseRiding       0.73      0.91      0.81        44\n",
      "          HulaHoop       0.26      0.49      0.34        35\n",
      "        IceDancing       0.95      1.00      0.98        42\n",
      "      JavelinThrow       0.14      0.03      0.05        33\n",
      "     JugglingBalls       0.47      0.25      0.33        28\n",
      "       JumpingJack       0.06      0.03      0.04        31\n",
      "          JumpRope       0.35      0.67      0.46        43\n",
      "          Kayaking       0.72      0.72      0.72        46\n",
      "          Knitting       0.36      0.71      0.48        34\n",
      "          LongJump       0.43      0.74      0.54        34\n",
      "            Lunges       0.70      0.21      0.33        33\n",
      "    MilitaryParade       0.58      0.19      0.29        37\n",
      "            Mixing       0.42      0.65      0.51        31\n",
      "      MoppingFloor       1.00      0.06      0.12        32\n",
      "         Nunchucks       0.13      0.11      0.12        37\n",
      "      ParallelBars       0.70      1.00      0.82        28\n",
      "      PizzaTossing       0.17      0.03      0.06        29\n",
      "      PlayingCello       0.28      0.47      0.35        47\n",
      "        PlayingDaf       0.00      0.00      0.00        45\n",
      "       PlayingDhol       0.39      0.22      0.28        41\n",
      "      PlayingFlute       0.10      0.10      0.10        42\n",
      "     PlayingGuitar       0.37      0.42      0.39        48\n",
      "      PlayingPiano       0.90      0.27      0.42        33\n",
      "      PlayingSitar       0.36      0.22      0.27        46\n",
      "      PlayingTabla       0.00      0.00      0.00        31\n",
      "     PlayingViolin       0.00      0.00      0.00        28\n",
      "         PoleVault       0.69      0.69      0.69        45\n",
      "       PommelHorse       0.67      1.00      0.80        35\n",
      "           PullUps       0.46      0.21      0.29        28\n",
      "             Punch       0.61      0.98      0.75        45\n",
      "           PushUps       0.00      0.00      0.00        28\n",
      "           Rafting       0.86      0.94      0.90        34\n",
      "RockClimbingIndoor       0.48      0.89      0.62        37\n",
      "      RopeClimbing       0.45      0.14      0.22        35\n",
      "            Rowing       1.00      0.57      0.72        37\n",
      "         SalsaSpin       0.62      0.48      0.54        33\n",
      "      ShavingBeard       0.10      0.02      0.03        48\n",
      "           Shotput       0.16      0.17      0.17        35\n",
      "     SkateBoarding       0.76      0.94      0.84        34\n",
      "            Skiing       0.51      0.87      0.64        38\n",
      "            Skijet       0.63      0.93      0.75        28\n",
      "         SkyDiving       0.87      0.38      0.53        34\n",
      "    SoccerJuggling       0.46      0.74      0.57        43\n",
      "     SoccerPenalty       0.57      0.86      0.68        35\n",
      "        StillRings       0.68      0.61      0.64        31\n",
      "     SumoWrestling       0.50      0.48      0.49        33\n",
      "           Surfing       0.94      0.82      0.88        39\n",
      "             Swing       0.57      0.78      0.66        36\n",
      "   TableTennisShot       0.31      0.20      0.24        40\n",
      "            TaiChi       0.49      0.68      0.57        28\n",
      "       TennisSwing       0.47      0.80      0.60        45\n",
      "       ThrowDiscus       0.64      0.19      0.30        36\n",
      " TrampolineJumping       0.59      0.76      0.67        34\n",
      "            Typing       0.34      0.74      0.47        31\n",
      "        UnevenBars       0.76      0.81      0.79        32\n",
      " VolleyballSpiking       0.43      0.32      0.37        28\n",
      "    WalkingWithDog       0.46      0.35      0.40        34\n",
      "       WallPushups       0.20      0.36      0.25        42\n",
      "    WritingOnBoard       0.25      0.33      0.28        42\n",
      "              YoYo       0.44      0.19      0.27        36\n",
      "\n",
      "          accuracy                           0.49      3696\n",
      "         macro avg       0.47      0.48      0.45      3696\n",
      "      weighted avg       0.47      0.49      0.45      3696\n",
      "\n"
     ]
    },
    {
     "data": {
      "text/plain": [
       "array([43, 18, 79, ..., 91, 32, 91], dtype=uint8)"
      ]
     },
     "execution_count": 50,
     "metadata": {},
     "output_type": "execute_result"
    }
   ],
   "source": [
    "run_pca_svm(X_train, Y_train, X_test, Y_test, n_components=10, labels=list(CLASSES.keys()))"
   ]
  },
  {
   "cell_type": "markdown",
   "metadata": {},
   "source": [
    "### SVM+PCA50"
   ]
  },
  {
   "cell_type": "code",
   "execution_count": 51,
   "metadata": {},
   "outputs": [
    {
     "name": "stdout",
     "output_type": "stream",
     "text": [
      "Train/test shapes after PCA: (9624, 50) / (3696, 50)\n",
      "                    precision    recall  f1-score   support\n",
      "\n",
      "    ApplyEyeMakeup       0.55      0.73      0.63        37\n",
      "     ApplyLipstick       0.79      0.70      0.74        33\n",
      "           Archery       0.47      0.53      0.49        38\n",
      "      BabyCrawling       0.87      0.85      0.86        39\n",
      "       BalanceBeam       1.00      0.74      0.85        31\n",
      "      BandMarching       0.77      0.93      0.84        43\n",
      "     BaseballPitch       0.70      0.70      0.70        40\n",
      "        Basketball       0.87      0.81      0.84        42\n",
      "    BasketballDunk       1.00      0.97      0.99        40\n",
      "        BenchPress       0.83      0.90      0.86        42\n",
      "            Biking       0.87      1.00      0.93        40\n",
      "         Billiards       1.00      1.00      1.00        42\n",
      "       BlowDryHair       0.44      0.59      0.51        34\n",
      "    BlowingCandles       0.59      0.79      0.68        28\n",
      "  BodyWeightSquats       0.58      0.47      0.52        30\n",
      "           Bowling       0.93      1.00      0.97        43\n",
      " BoxingPunchingBag       0.54      0.62      0.58        45\n",
      "    BoxingSpeedBag       0.58      0.30      0.39        37\n",
      "      BreastStroke       1.00      0.59      0.74        29\n",
      "     BrushingTeeth       0.62      0.44      0.52        34\n",
      "      CleanAndJerk       0.76      0.87      0.81        30\n",
      "       CliffDiving       0.88      0.95      0.91        38\n",
      "    CricketBowling       0.45      0.67      0.54        42\n",
      "       CricketShot       0.19      0.14      0.16        43\n",
      "  CuttingInKitchen       0.65      0.54      0.59        28\n",
      "            Diving       0.86      0.97      0.91        38\n",
      "          Drumming       0.75      0.92      0.82        48\n",
      "           Fencing       0.89      0.89      0.89        28\n",
      "FieldHockeyPenalty       0.90      0.63      0.75        30\n",
      "   FloorGymnastics       0.88      0.97      0.92        37\n",
      "      FrisbeeCatch       0.95      1.00      0.97        37\n",
      "        FrontCrawl       0.72      1.00      0.84        39\n",
      "         GolfSwing       0.62      0.95      0.75        40\n",
      "           Haircut       0.43      0.34      0.38        35\n",
      "         Hammering       0.27      0.40      0.33        42\n",
      "       HammerThrow       0.57      0.69      0.62        36\n",
      "  HandstandPushups       0.66      0.60      0.62        42\n",
      "  HandstandWalking       0.62      0.16      0.26        31\n",
      "       HeadMassage       0.66      0.66      0.66        41\n",
      "          HighJump       0.63      0.55      0.59        31\n",
      "         HorseRace       1.00      1.00      1.00        36\n",
      "       HorseRiding       0.96      0.98      0.97        44\n",
      "          HulaHoop       0.59      0.54      0.57        35\n",
      "        IceDancing       0.98      1.00      0.99        42\n",
      "      JavelinThrow       0.46      0.33      0.39        33\n",
      "     JugglingBalls       0.53      0.82      0.65        28\n",
      "       JumpingJack       0.70      0.61      0.66        31\n",
      "          JumpRope       0.82      0.72      0.77        43\n",
      "          Kayaking       0.95      0.85      0.90        46\n",
      "          Knitting       0.65      0.76      0.70        34\n",
      "          LongJump       0.62      1.00      0.76        34\n",
      "            Lunges       0.64      0.48      0.55        33\n",
      "    MilitaryParade       0.73      0.73      0.73        37\n",
      "            Mixing       0.69      0.81      0.75        31\n",
      "      MoppingFloor       0.61      0.72      0.66        32\n",
      "         Nunchucks       0.43      0.24      0.31        37\n",
      "      ParallelBars       0.90      1.00      0.95        28\n",
      "      PizzaTossing       0.47      0.24      0.32        29\n",
      "      PlayingCello       0.57      0.64      0.60        47\n",
      "        PlayingDaf       0.39      0.29      0.33        45\n",
      "       PlayingDhol       0.64      0.73      0.68        41\n",
      "      PlayingFlute       0.39      0.33      0.36        42\n",
      "     PlayingGuitar       0.56      0.50      0.53        48\n",
      "      PlayingPiano       0.66      0.70      0.68        33\n",
      "      PlayingSitar       0.67      0.70      0.68        46\n",
      "      PlayingTabla       0.77      0.74      0.75        31\n",
      "     PlayingViolin       0.67      0.21      0.32        28\n",
      "         PoleVault       0.88      0.80      0.84        45\n",
      "       PommelHorse       1.00      1.00      1.00        35\n",
      "           PullUps       0.62      0.57      0.59        28\n",
      "             Punch       0.88      1.00      0.94        45\n",
      "           PushUps       0.71      0.61      0.65        28\n",
      "           Rafting       0.92      1.00      0.96        34\n",
      "RockClimbingIndoor       0.79      1.00      0.88        37\n",
      "      RopeClimbing       0.83      0.69      0.75        35\n",
      "            Rowing       0.97      0.95      0.96        37\n",
      "         SalsaSpin       0.81      0.79      0.80        33\n",
      "      ShavingBeard       0.67      0.17      0.27        48\n",
      "           Shotput       0.25      0.20      0.22        35\n",
      "     SkateBoarding       0.83      1.00      0.91        34\n",
      "            Skiing       0.95      0.95      0.95        38\n",
      "            Skijet       0.82      0.96      0.89        28\n",
      "         SkyDiving       0.93      0.76      0.84        34\n",
      "    SoccerJuggling       0.87      0.93      0.90        43\n",
      "     SoccerPenalty       0.88      0.83      0.85        35\n",
      "        StillRings       1.00      0.74      0.85        31\n",
      "     SumoWrestling       0.92      1.00      0.96        33\n",
      "           Surfing       0.97      0.85      0.90        39\n",
      "             Swing       0.70      0.92      0.80        36\n",
      "   TableTennisShot       0.78      0.45      0.57        40\n",
      "            TaiChi       0.68      0.89      0.77        28\n",
      "       TennisSwing       0.96      0.96      0.96        45\n",
      "       ThrowDiscus       0.42      0.36      0.39        36\n",
      " TrampolineJumping       1.00      0.91      0.95        34\n",
      "            Typing       0.52      1.00      0.68        31\n",
      "        UnevenBars       1.00      0.97      0.98        32\n",
      " VolleyballSpiking       0.83      0.89      0.86        28\n",
      "    WalkingWithDog       0.79      0.91      0.85        34\n",
      "       WallPushups       0.40      0.29      0.33        42\n",
      "    WritingOnBoard       0.81      0.93      0.87        42\n",
      "              YoYo       0.62      0.64      0.63        36\n",
      "\n",
      "          accuracy                           0.73      3696\n",
      "         macro avg       0.73      0.72      0.71      3696\n",
      "      weighted avg       0.73      0.73      0.71      3696\n",
      "\n"
     ]
    },
    {
     "data": {
      "text/plain": [
       "array([101,  27,  24, ...,  91,  32,  91], dtype=uint8)"
      ]
     },
     "execution_count": 51,
     "metadata": {},
     "output_type": "execute_result"
    }
   ],
   "source": [
    "run_pca_svm(X_train, Y_train, X_test, Y_test, n_components=50, labels=list(CLASSES.keys()))"
   ]
  },
  {
   "cell_type": "markdown",
   "metadata": {},
   "source": [
    "### SVM+PCA100"
   ]
  },
  {
   "cell_type": "code",
   "execution_count": 52,
   "metadata": {},
   "outputs": [
    {
     "name": "stdout",
     "output_type": "stream",
     "text": [
      "Train/test shapes after PCA: (9624, 100) / (3696, 100)\n",
      "                    precision    recall  f1-score   support\n",
      "\n",
      "    ApplyEyeMakeup       0.61      0.68      0.64        37\n",
      "     ApplyLipstick       0.86      0.76      0.81        33\n",
      "           Archery       0.73      0.50      0.59        38\n",
      "      BabyCrawling       0.84      0.82      0.83        39\n",
      "       BalanceBeam       0.96      0.84      0.90        31\n",
      "      BandMarching       0.87      0.95      0.91        43\n",
      "     BaseballPitch       0.81      0.72      0.76        40\n",
      "        Basketball       0.95      0.98      0.96        42\n",
      "    BasketballDunk       1.00      0.97      0.99        40\n",
      "        BenchPress       0.86      0.90      0.88        42\n",
      "            Biking       0.95      1.00      0.98        40\n",
      "         Billiards       1.00      1.00      1.00        42\n",
      "       BlowDryHair       0.37      0.56      0.44        34\n",
      "    BlowingCandles       0.62      0.89      0.74        28\n",
      "  BodyWeightSquats       0.50      0.47      0.48        30\n",
      "           Bowling       0.96      1.00      0.98        43\n",
      " BoxingPunchingBag       0.55      0.62      0.58        45\n",
      "    BoxingSpeedBag       0.57      0.32      0.41        37\n",
      "      BreastStroke       0.95      0.69      0.80        29\n",
      "     BrushingTeeth       0.52      0.50      0.51        34\n",
      "      CleanAndJerk       0.78      0.97      0.87        30\n",
      "       CliffDiving       0.92      0.95      0.94        38\n",
      "    CricketBowling       0.50      0.83      0.62        42\n",
      "       CricketShot       0.17      0.09      0.12        43\n",
      "  CuttingInKitchen       0.62      0.46      0.53        28\n",
      "            Diving       0.88      0.97      0.93        38\n",
      "          Drumming       0.86      0.92      0.89        48\n",
      "           Fencing       0.96      0.79      0.86        28\n",
      "FieldHockeyPenalty       0.82      0.77      0.79        30\n",
      "   FloorGymnastics       0.84      0.97      0.90        37\n",
      "      FrisbeeCatch       0.97      0.95      0.96        37\n",
      "        FrontCrawl       0.76      0.95      0.84        39\n",
      "         GolfSwing       0.59      0.90      0.71        40\n",
      "           Haircut       0.36      0.34      0.35        35\n",
      "         Hammering       0.42      0.55      0.47        42\n",
      "       HammerThrow       0.72      0.81      0.76        36\n",
      "  HandstandPushups       0.74      0.62      0.68        42\n",
      "  HandstandWalking       0.54      0.23      0.32        31\n",
      "       HeadMassage       0.50      0.54      0.52        41\n",
      "          HighJump       0.59      0.71      0.65        31\n",
      "         HorseRace       1.00      1.00      1.00        36\n",
      "       HorseRiding       1.00      0.98      0.99        44\n",
      "          HulaHoop       0.78      0.60      0.68        35\n",
      "        IceDancing       0.98      1.00      0.99        42\n",
      "      JavelinThrow       0.65      0.61      0.62        33\n",
      "     JugglingBalls       0.58      0.89      0.70        28\n",
      "       JumpingJack       0.71      0.55      0.62        31\n",
      "          JumpRope       0.74      0.79      0.76        43\n",
      "          Kayaking       0.98      0.87      0.92        46\n",
      "          Knitting       0.82      0.79      0.81        34\n",
      "          LongJump       0.80      0.97      0.88        34\n",
      "            Lunges       0.50      0.36      0.42        33\n",
      "    MilitaryParade       0.84      0.86      0.85        37\n",
      "            Mixing       0.74      0.84      0.79        31\n",
      "      MoppingFloor       0.54      0.62      0.58        32\n",
      "         Nunchucks       0.48      0.30      0.37        37\n",
      "      ParallelBars       0.82      0.96      0.89        28\n",
      "      PizzaTossing       0.62      0.17      0.27        29\n",
      "      PlayingCello       0.63      0.79      0.70        47\n",
      "        PlayingDaf       0.67      0.36      0.46        45\n",
      "       PlayingDhol       0.67      0.76      0.71        41\n",
      "      PlayingFlute       0.47      0.52      0.49        42\n",
      "     PlayingGuitar       0.75      0.56      0.64        48\n",
      "      PlayingPiano       0.76      0.79      0.78        33\n",
      "      PlayingSitar       0.68      0.83      0.75        46\n",
      "      PlayingTabla       0.76      0.84      0.80        31\n",
      "     PlayingViolin       0.93      0.46      0.62        28\n",
      "         PoleVault       0.81      0.96      0.88        45\n",
      "       PommelHorse       0.97      1.00      0.99        35\n",
      "           PullUps       0.59      0.57      0.58        28\n",
      "             Punch       0.90      1.00      0.95        45\n",
      "           PushUps       0.70      0.82      0.75        28\n",
      "           Rafting       0.89      1.00      0.94        34\n",
      "RockClimbingIndoor       0.80      1.00      0.89        37\n",
      "      RopeClimbing       0.96      0.69      0.80        35\n",
      "            Rowing       0.97      0.92      0.94        37\n",
      "         SalsaSpin       0.83      0.88      0.85        33\n",
      "      ShavingBeard       0.52      0.27      0.36        48\n",
      "           Shotput       0.33      0.23      0.27        35\n",
      "     SkateBoarding       0.97      1.00      0.99        34\n",
      "            Skiing       0.97      0.92      0.95        38\n",
      "            Skijet       0.73      0.96      0.83        28\n",
      "         SkyDiving       0.96      0.79      0.87        34\n",
      "    SoccerJuggling       0.85      0.93      0.89        43\n",
      "     SoccerPenalty       0.97      0.83      0.89        35\n",
      "        StillRings       0.89      0.77      0.83        31\n",
      "     SumoWrestling       0.97      1.00      0.99        33\n",
      "           Surfing       0.94      0.85      0.89        39\n",
      "             Swing       0.69      0.81      0.74        36\n",
      "   TableTennisShot       0.76      0.47      0.58        40\n",
      "            TaiChi       0.61      0.79      0.69        28\n",
      "       TennisSwing       0.97      0.87      0.92        45\n",
      "       ThrowDiscus       0.64      0.50      0.56        36\n",
      " TrampolineJumping       0.86      0.91      0.89        34\n",
      "            Typing       0.64      0.97      0.77        31\n",
      "        UnevenBars       1.00      0.97      0.98        32\n",
      " VolleyballSpiking       0.82      0.96      0.89        28\n",
      "    WalkingWithDog       0.68      1.00      0.81        34\n",
      "       WallPushups       0.43      0.29      0.34        42\n",
      "    WritingOnBoard       0.91      0.93      0.92        42\n",
      "              YoYo       0.53      0.58      0.55        36\n",
      "\n",
      "          accuracy                           0.75      3696\n",
      "         macro avg       0.75      0.75      0.74      3696\n",
      "      weighted avg       0.75      0.75      0.74      3696\n",
      "\n"
     ]
    },
    {
     "data": {
      "text/plain": [
       "array([101,  35,  24, ...,  91,  32,  91], dtype=uint8)"
      ]
     },
     "execution_count": 52,
     "metadata": {},
     "output_type": "execute_result"
    }
   ],
   "source": [
    "run_pca_svm(X_train, Y_train, X_test, Y_test, n_components=100, labels=list(CLASSES.keys()))"
   ]
  },
  {
   "cell_type": "markdown",
   "metadata": {},
   "source": [
    "### SVM+PCA500"
   ]
  },
  {
   "cell_type": "code",
   "execution_count": 53,
   "metadata": {},
   "outputs": [
    {
     "name": "stdout",
     "output_type": "stream",
     "text": [
      "Train/test shapes after PCA: (9624, 500) / (3696, 500)\n",
      "                    precision    recall  f1-score   support\n",
      "\n",
      "    ApplyEyeMakeup       0.62      0.70      0.66        37\n",
      "     ApplyLipstick       0.85      0.67      0.75        33\n",
      "           Archery       0.75      0.55      0.64        38\n",
      "      BabyCrawling       0.77      0.92      0.84        39\n",
      "       BalanceBeam       0.96      0.84      0.90        31\n",
      "      BandMarching       0.91      0.95      0.93        43\n",
      "     BaseballPitch       0.72      0.78      0.75        40\n",
      "        Basketball       0.87      0.98      0.92        42\n",
      "    BasketballDunk       1.00      0.97      0.99        40\n",
      "        BenchPress       0.93      0.90      0.92        42\n",
      "            Biking       0.95      1.00      0.98        40\n",
      "         Billiards       1.00      1.00      1.00        42\n",
      "       BlowDryHair       0.43      0.68      0.52        34\n",
      "    BlowingCandles       0.77      0.86      0.81        28\n",
      "  BodyWeightSquats       0.48      0.47      0.47        30\n",
      "           Bowling       0.96      1.00      0.98        43\n",
      " BoxingPunchingBag       0.61      0.62      0.62        45\n",
      "    BoxingSpeedBag       0.87      0.35      0.50        37\n",
      "      BreastStroke       0.76      0.76      0.76        29\n",
      "     BrushingTeeth       0.57      0.62      0.59        34\n",
      "      CleanAndJerk       0.86      1.00      0.92        30\n",
      "       CliffDiving       0.90      0.97      0.94        38\n",
      "    CricketBowling       0.52      0.79      0.62        42\n",
      "       CricketShot       0.32      0.14      0.19        43\n",
      "  CuttingInKitchen       0.63      0.43      0.51        28\n",
      "            Diving       0.88      1.00      0.94        38\n",
      "          Drumming       0.82      0.94      0.87        48\n",
      "           Fencing       0.96      0.96      0.96        28\n",
      "FieldHockeyPenalty       0.88      0.77      0.82        30\n",
      "   FloorGymnastics       0.84      1.00      0.91        37\n",
      "      FrisbeeCatch       0.95      1.00      0.97        37\n",
      "        FrontCrawl       0.78      0.79      0.78        39\n",
      "         GolfSwing       0.71      0.97      0.82        40\n",
      "           Haircut       0.37      0.31      0.34        35\n",
      "         Hammering       0.44      0.45      0.45        42\n",
      "       HammerThrow       0.70      0.83      0.76        36\n",
      "  HandstandPushups       0.84      0.62      0.71        42\n",
      "  HandstandWalking       0.44      0.26      0.33        31\n",
      "       HeadMassage       0.58      0.54      0.56        41\n",
      "          HighJump       0.64      0.74      0.69        31\n",
      "         HorseRace       1.00      1.00      1.00        36\n",
      "       HorseRiding       0.98      0.98      0.98        44\n",
      "          HulaHoop       0.81      0.63      0.71        35\n",
      "        IceDancing       0.98      1.00      0.99        42\n",
      "      JavelinThrow       0.67      0.67      0.67        33\n",
      "     JugglingBalls       0.61      0.89      0.72        28\n",
      "       JumpingJack       0.62      0.52      0.56        31\n",
      "          JumpRope       0.77      0.70      0.73        43\n",
      "          Kayaking       1.00      0.87      0.93        46\n",
      "          Knitting       0.87      0.79      0.83        34\n",
      "          LongJump       0.81      1.00      0.89        34\n",
      "            Lunges       0.67      0.55      0.60        33\n",
      "    MilitaryParade       0.85      0.89      0.87        37\n",
      "            Mixing       0.81      0.97      0.88        31\n",
      "      MoppingFloor       0.61      0.69      0.65        32\n",
      "         Nunchucks       0.64      0.38      0.47        37\n",
      "      ParallelBars       0.90      1.00      0.95        28\n",
      "      PizzaTossing       0.42      0.28      0.33        29\n",
      "      PlayingCello       0.72      0.87      0.79        47\n",
      "        PlayingDaf       0.61      0.31      0.41        45\n",
      "       PlayingDhol       0.71      0.88      0.78        41\n",
      "      PlayingFlute       0.42      0.38      0.40        42\n",
      "     PlayingGuitar       0.94      0.60      0.73        48\n",
      "      PlayingPiano       0.76      0.85      0.80        33\n",
      "      PlayingSitar       0.61      0.74      0.67        46\n",
      "      PlayingTabla       0.74      0.84      0.79        31\n",
      "     PlayingViolin       0.93      0.50      0.65        28\n",
      "         PoleVault       0.90      0.96      0.92        45\n",
      "       PommelHorse       0.97      1.00      0.99        35\n",
      "           PullUps       0.62      0.86      0.72        28\n",
      "             Punch       1.00      1.00      1.00        45\n",
      "           PushUps       0.69      0.89      0.78        28\n",
      "           Rafting       0.89      1.00      0.94        34\n",
      "RockClimbingIndoor       0.82      1.00      0.90        37\n",
      "      RopeClimbing       0.89      0.71      0.79        35\n",
      "            Rowing       0.97      0.92      0.94        37\n",
      "         SalsaSpin       0.81      0.91      0.86        33\n",
      "      ShavingBeard       0.56      0.38      0.45        48\n",
      "           Shotput       0.33      0.23      0.27        35\n",
      "     SkateBoarding       1.00      1.00      1.00        34\n",
      "            Skiing       0.97      0.89      0.93        38\n",
      "            Skijet       0.73      0.96      0.83        28\n",
      "         SkyDiving       0.93      0.82      0.87        34\n",
      "    SoccerJuggling       0.89      0.93      0.91        43\n",
      "     SoccerPenalty       0.94      0.83      0.88        35\n",
      "        StillRings       0.93      0.90      0.92        31\n",
      "     SumoWrestling       0.94      1.00      0.97        33\n",
      "           Surfing       0.97      0.85      0.90        39\n",
      "             Swing       0.82      0.86      0.84        36\n",
      "   TableTennisShot       0.73      0.55      0.63        40\n",
      "            TaiChi       0.63      0.79      0.70        28\n",
      "       TennisSwing       1.00      0.84      0.92        45\n",
      "       ThrowDiscus       0.80      0.56      0.66        36\n",
      " TrampolineJumping       0.78      0.94      0.85        34\n",
      "            Typing       0.65      0.97      0.78        31\n",
      "        UnevenBars       1.00      0.97      0.98        32\n",
      " VolleyballSpiking       0.75      0.96      0.84        28\n",
      "    WalkingWithDog       0.73      0.97      0.84        34\n",
      "       WallPushups       0.61      0.40      0.49        42\n",
      "    WritingOnBoard       0.88      1.00      0.93        42\n",
      "              YoYo       0.58      0.69      0.63        36\n",
      "\n",
      "          accuracy                           0.78      3696\n",
      "         macro avg       0.77      0.78      0.77      3696\n",
      "      weighted avg       0.78      0.78      0.77      3696\n",
      "\n"
     ]
    },
    {
     "data": {
      "text/plain": [
       "array([101,  35,  24, ...,  91,  32,  91], dtype=uint8)"
      ]
     },
     "execution_count": 53,
     "metadata": {},
     "output_type": "execute_result"
    }
   ],
   "source": [
    "run_pca_svm(X_train, Y_train, X_test, Y_test, n_components=500, labels=list(CLASSES.keys()))"
   ]
  }
 ],
 "metadata": {
  "kernelspec": {
   "display_name": "Python [conda env:py36dl]",
   "language": "python",
   "name": "conda-env-py36dl-py"
  },
  "language_info": {
   "codemirror_mode": {
    "name": "ipython",
    "version": 3
   },
   "file_extension": ".py",
   "mimetype": "text/x-python",
   "name": "python",
   "nbconvert_exporter": "python",
   "pygments_lexer": "ipython3",
   "version": "3.6.7"
  }
 },
 "nbformat": 4,
 "nbformat_minor": 2
}
